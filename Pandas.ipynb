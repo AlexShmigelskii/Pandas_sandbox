{
 "cells": [
  {
   "cell_type": "code",
   "execution_count": 2,
   "metadata": {
    "collapsed": true,
    "ExecuteTime": {
     "end_time": "2023-08-13T10:35:37.285308Z",
     "start_time": "2023-08-13T10:35:34.905379Z"
    }
   },
   "outputs": [],
   "source": [
    "import pandas as pd\n",
    "\n",
    "\n",
    "# Создадим набор данных в виде словаря\n",
    "data = {\n",
    "    'Имя': ['Анна', 'Борис', 'Виктория', 'Дмитрий', 'Екатерина'],\n",
    "    'Возраст': [21, 24, 20, 22, 23],\n",
    "    'Пол': ['Ж', 'М', 'Ж', 'М', 'Ж'],\n",
    "    'Оценка_математика': [85, 70, 92, 65, 78],\n",
    "    'Оценка_физика': [70, 82, 88, 75, 60]\n",
    "}\n"
   ]
  },
  {
   "cell_type": "code",
   "execution_count": 3,
   "outputs": [],
   "source": [
    "# Создаем оъект DataFrame из словаря\n",
    "df = pd.DataFrame(data)"
   ],
   "metadata": {
    "collapsed": false,
    "ExecuteTime": {
     "end_time": "2023-08-13T10:35:37.326978Z",
     "start_time": "2023-08-13T10:35:37.268714Z"
    }
   }
  },
  {
   "cell_type": "code",
   "execution_count": 4,
   "outputs": [
    {
     "data": {
      "text/plain": "         Имя  Возраст Пол  Оценка_математика  Оценка_физика\n0       Анна       21   Ж                 85             70\n1      Борис       24   М                 70             82\n2   Виктория       20   Ж                 92             88\n3    Дмитрий       22   М                 65             75\n4  Екатерина       23   Ж                 78             60",
      "text/html": "<div>\n<style scoped>\n    .dataframe tbody tr th:only-of-type {\n        vertical-align: middle;\n    }\n\n    .dataframe tbody tr th {\n        vertical-align: top;\n    }\n\n    .dataframe thead th {\n        text-align: right;\n    }\n</style>\n<table border=\"1\" class=\"dataframe\">\n  <thead>\n    <tr style=\"text-align: right;\">\n      <th></th>\n      <th>Имя</th>\n      <th>Возраст</th>\n      <th>Пол</th>\n      <th>Оценка_математика</th>\n      <th>Оценка_физика</th>\n    </tr>\n  </thead>\n  <tbody>\n    <tr>\n      <th>0</th>\n      <td>Анна</td>\n      <td>21</td>\n      <td>Ж</td>\n      <td>85</td>\n      <td>70</td>\n    </tr>\n    <tr>\n      <th>1</th>\n      <td>Борис</td>\n      <td>24</td>\n      <td>М</td>\n      <td>70</td>\n      <td>82</td>\n    </tr>\n    <tr>\n      <th>2</th>\n      <td>Виктория</td>\n      <td>20</td>\n      <td>Ж</td>\n      <td>92</td>\n      <td>88</td>\n    </tr>\n    <tr>\n      <th>3</th>\n      <td>Дмитрий</td>\n      <td>22</td>\n      <td>М</td>\n      <td>65</td>\n      <td>75</td>\n    </tr>\n    <tr>\n      <th>4</th>\n      <td>Екатерина</td>\n      <td>23</td>\n      <td>Ж</td>\n      <td>78</td>\n      <td>60</td>\n    </tr>\n  </tbody>\n</table>\n</div>"
     },
     "execution_count": 4,
     "metadata": {},
     "output_type": "execute_result"
    }
   ],
   "source": [
    "df"
   ],
   "metadata": {
    "collapsed": false,
    "ExecuteTime": {
     "end_time": "2023-08-13T10:35:37.394230Z",
     "start_time": "2023-08-13T10:35:37.290483Z"
    }
   }
  },
  {
   "cell_type": "code",
   "execution_count": 5,
   "outputs": [
    {
     "data": {
      "text/plain": "        Имя  Возраст Пол  Оценка_математика  Оценка_физика\n0      Анна       21   Ж                 85             70\n1     Борис       24   М                 70             82\n2  Виктория       20   Ж                 92             88",
      "text/html": "<div>\n<style scoped>\n    .dataframe tbody tr th:only-of-type {\n        vertical-align: middle;\n    }\n\n    .dataframe tbody tr th {\n        vertical-align: top;\n    }\n\n    .dataframe thead th {\n        text-align: right;\n    }\n</style>\n<table border=\"1\" class=\"dataframe\">\n  <thead>\n    <tr style=\"text-align: right;\">\n      <th></th>\n      <th>Имя</th>\n      <th>Возраст</th>\n      <th>Пол</th>\n      <th>Оценка_математика</th>\n      <th>Оценка_физика</th>\n    </tr>\n  </thead>\n  <tbody>\n    <tr>\n      <th>0</th>\n      <td>Анна</td>\n      <td>21</td>\n      <td>Ж</td>\n      <td>85</td>\n      <td>70</td>\n    </tr>\n    <tr>\n      <th>1</th>\n      <td>Борис</td>\n      <td>24</td>\n      <td>М</td>\n      <td>70</td>\n      <td>82</td>\n    </tr>\n    <tr>\n      <th>2</th>\n      <td>Виктория</td>\n      <td>20</td>\n      <td>Ж</td>\n      <td>92</td>\n      <td>88</td>\n    </tr>\n  </tbody>\n</table>\n</div>"
     },
     "execution_count": 5,
     "metadata": {},
     "output_type": "execute_result"
    }
   ],
   "source": [
    "df.head(3)"
   ],
   "metadata": {
    "collapsed": false,
    "ExecuteTime": {
     "end_time": "2023-08-13T10:35:37.396585Z",
     "start_time": "2023-08-13T10:35:37.330876Z"
    }
   }
  },
  {
   "cell_type": "code",
   "execution_count": 6,
   "outputs": [
    {
     "data": {
      "text/plain": "         Имя  Оценка_математика\n0       Анна                 85\n1      Борис                 70\n2   Виктория                 92\n3    Дмитрий                 65\n4  Екатерина                 78",
      "text/html": "<div>\n<style scoped>\n    .dataframe tbody tr th:only-of-type {\n        vertical-align: middle;\n    }\n\n    .dataframe tbody tr th {\n        vertical-align: top;\n    }\n\n    .dataframe thead th {\n        text-align: right;\n    }\n</style>\n<table border=\"1\" class=\"dataframe\">\n  <thead>\n    <tr style=\"text-align: right;\">\n      <th></th>\n      <th>Имя</th>\n      <th>Оценка_математика</th>\n    </tr>\n  </thead>\n  <tbody>\n    <tr>\n      <th>0</th>\n      <td>Анна</td>\n      <td>85</td>\n    </tr>\n    <tr>\n      <th>1</th>\n      <td>Борис</td>\n      <td>70</td>\n    </tr>\n    <tr>\n      <th>2</th>\n      <td>Виктория</td>\n      <td>92</td>\n    </tr>\n    <tr>\n      <th>3</th>\n      <td>Дмитрий</td>\n      <td>65</td>\n    </tr>\n    <tr>\n      <th>4</th>\n      <td>Екатерина</td>\n      <td>78</td>\n    </tr>\n  </tbody>\n</table>\n</div>"
     },
     "execution_count": 6,
     "metadata": {},
     "output_type": "execute_result"
    }
   ],
   "source": [
    "selected_columns = df[[\"Имя\", \"Оценка_математика\"]]\n",
    "selected_columns"
   ],
   "metadata": {
    "collapsed": false,
    "ExecuteTime": {
     "end_time": "2023-08-13T10:35:37.560311Z",
     "start_time": "2023-08-13T10:35:37.360604Z"
    }
   }
  },
  {
   "cell_type": "code",
   "execution_count": 7,
   "outputs": [
    {
     "data": {
      "text/plain": "         Имя  Возраст Пол  Оценка_математика  Оценка_физика\n1      Борис       24   М                 70             82\n4  Екатерина       23   Ж                 78             60",
      "text/html": "<div>\n<style scoped>\n    .dataframe tbody tr th:only-of-type {\n        vertical-align: middle;\n    }\n\n    .dataframe tbody tr th {\n        vertical-align: top;\n    }\n\n    .dataframe thead th {\n        text-align: right;\n    }\n</style>\n<table border=\"1\" class=\"dataframe\">\n  <thead>\n    <tr style=\"text-align: right;\">\n      <th></th>\n      <th>Имя</th>\n      <th>Возраст</th>\n      <th>Пол</th>\n      <th>Оценка_математика</th>\n      <th>Оценка_физика</th>\n    </tr>\n  </thead>\n  <tbody>\n    <tr>\n      <th>1</th>\n      <td>Борис</td>\n      <td>24</td>\n      <td>М</td>\n      <td>70</td>\n      <td>82</td>\n    </tr>\n    <tr>\n      <th>4</th>\n      <td>Екатерина</td>\n      <td>23</td>\n      <td>Ж</td>\n      <td>78</td>\n      <td>60</td>\n    </tr>\n  </tbody>\n</table>\n</div>"
     },
     "execution_count": 7,
     "metadata": {},
     "output_type": "execute_result"
    }
   ],
   "source": [
    "filtered_data = df[df[\"Возраст\"] > 22]\n",
    "filtered_data"
   ],
   "metadata": {
    "collapsed": false,
    "ExecuteTime": {
     "end_time": "2023-08-13T10:35:37.561900Z",
     "start_time": "2023-08-13T10:35:37.394971Z"
    }
   }
  },
  {
   "cell_type": "code",
   "execution_count": 8,
   "outputs": [
    {
     "data": {
      "text/plain": "     Оценка_математика  Оценка_физика\nПол                                  \nЖ                 85.0           72.7\nМ                 67.5           78.5",
      "text/html": "<div>\n<style scoped>\n    .dataframe tbody tr th:only-of-type {\n        vertical-align: middle;\n    }\n\n    .dataframe tbody tr th {\n        vertical-align: top;\n    }\n\n    .dataframe thead th {\n        text-align: right;\n    }\n</style>\n<table border=\"1\" class=\"dataframe\">\n  <thead>\n    <tr style=\"text-align: right;\">\n      <th></th>\n      <th>Оценка_математика</th>\n      <th>Оценка_физика</th>\n    </tr>\n    <tr>\n      <th>Пол</th>\n      <th></th>\n      <th></th>\n    </tr>\n  </thead>\n  <tbody>\n    <tr>\n      <th>Ж</th>\n      <td>85.0</td>\n      <td>72.7</td>\n    </tr>\n    <tr>\n      <th>М</th>\n      <td>67.5</td>\n      <td>78.5</td>\n    </tr>\n  </tbody>\n</table>\n</div>"
     },
     "execution_count": 8,
     "metadata": {},
     "output_type": "execute_result"
    }
   ],
   "source": [
    "grouped_by_sex = df.groupby(\"Пол\")[['Оценка_математика', \"Оценка_физика\"]].mean()\n",
    "grouped_by_sex[\"Оценка_физика\"] = round(grouped_by_sex[\"Оценка_физика\"], 1)\n",
    "grouped_by_sex"
   ],
   "metadata": {
    "collapsed": false,
    "ExecuteTime": {
     "end_time": "2023-08-13T10:35:37.607402Z",
     "start_time": "2023-08-13T10:35:37.430080Z"
    }
   }
  },
  {
   "cell_type": "code",
   "execution_count": 9,
   "outputs": [
    {
     "data": {
      "text/plain": "     Оценка_математика  Оценка_физика\nПол                                  \nЖ                 85.0           73.0\nМ                 68.0           78.0",
      "text/html": "<div>\n<style scoped>\n    .dataframe tbody tr th:only-of-type {\n        vertical-align: middle;\n    }\n\n    .dataframe tbody tr th {\n        vertical-align: top;\n    }\n\n    .dataframe thead th {\n        text-align: right;\n    }\n</style>\n<table border=\"1\" class=\"dataframe\">\n  <thead>\n    <tr style=\"text-align: right;\">\n      <th></th>\n      <th>Оценка_математика</th>\n      <th>Оценка_физика</th>\n    </tr>\n    <tr>\n      <th>Пол</th>\n      <th></th>\n      <th></th>\n    </tr>\n  </thead>\n  <tbody>\n    <tr>\n      <th>Ж</th>\n      <td>85.0</td>\n      <td>73.0</td>\n    </tr>\n    <tr>\n      <th>М</th>\n      <td>68.0</td>\n      <td>78.0</td>\n    </tr>\n  </tbody>\n</table>\n</div>"
     },
     "execution_count": 9,
     "metadata": {},
     "output_type": "execute_result"
    }
   ],
   "source": [
    "grouped_by_sex = df.groupby(\"Пол\")[['Оценка_математика', \"Оценка_физика\"]].mean().round()\n",
    "grouped_by_sex"
   ],
   "metadata": {
    "collapsed": false,
    "ExecuteTime": {
     "end_time": "2023-08-13T10:35:37.843361Z",
     "start_time": "2023-08-13T10:35:37.503284Z"
    }
   }
  },
  {
   "cell_type": "code",
   "execution_count": 10,
   "outputs": [
    {
     "data": {
      "text/plain": "         Имя  Возраст Пол  Оценка_математика  Оценка_физика\n2   Виктория       20   Ж                 92             88\n1      Борис       24   М                 70             82\n3    Дмитрий       22   М                 65             75\n0       Анна       21   Ж                 85             70\n4  Екатерина       23   Ж                 78             60",
      "text/html": "<div>\n<style scoped>\n    .dataframe tbody tr th:only-of-type {\n        vertical-align: middle;\n    }\n\n    .dataframe tbody tr th {\n        vertical-align: top;\n    }\n\n    .dataframe thead th {\n        text-align: right;\n    }\n</style>\n<table border=\"1\" class=\"dataframe\">\n  <thead>\n    <tr style=\"text-align: right;\">\n      <th></th>\n      <th>Имя</th>\n      <th>Возраст</th>\n      <th>Пол</th>\n      <th>Оценка_математика</th>\n      <th>Оценка_физика</th>\n    </tr>\n  </thead>\n  <tbody>\n    <tr>\n      <th>2</th>\n      <td>Виктория</td>\n      <td>20</td>\n      <td>Ж</td>\n      <td>92</td>\n      <td>88</td>\n    </tr>\n    <tr>\n      <th>1</th>\n      <td>Борис</td>\n      <td>24</td>\n      <td>М</td>\n      <td>70</td>\n      <td>82</td>\n    </tr>\n    <tr>\n      <th>3</th>\n      <td>Дмитрий</td>\n      <td>22</td>\n      <td>М</td>\n      <td>65</td>\n      <td>75</td>\n    </tr>\n    <tr>\n      <th>0</th>\n      <td>Анна</td>\n      <td>21</td>\n      <td>Ж</td>\n      <td>85</td>\n      <td>70</td>\n    </tr>\n    <tr>\n      <th>4</th>\n      <td>Екатерина</td>\n      <td>23</td>\n      <td>Ж</td>\n      <td>78</td>\n      <td>60</td>\n    </tr>\n  </tbody>\n</table>\n</div>"
     },
     "execution_count": 10,
     "metadata": {},
     "output_type": "execute_result"
    }
   ],
   "source": [
    "sorted_df = df.sort_values([\"Оценка_физика\", \"Оценка_математика\"], ascending=False)\n",
    "sorted_df"
   ],
   "metadata": {
    "collapsed": false,
    "ExecuteTime": {
     "end_time": "2023-08-13T10:35:37.924127Z",
     "start_time": "2023-08-13T10:35:37.540343Z"
    }
   }
  },
  {
   "cell_type": "code",
   "execution_count": 11,
   "outputs": [
    {
     "data": {
      "text/plain": "         Имя  Возраст Пол  Оценка_математика  Оценка_физика Средняя_оценка\n0       Анна       21   Ж                 85             70           None\n1      Борис       24   М                 70             82           None\n2   Виктория       20   Ж                 92             88           None\n3    Дмитрий       22   М                 65             75           None\n4  Екатерина       23   Ж                 78             60           None",
      "text/html": "<div>\n<style scoped>\n    .dataframe tbody tr th:only-of-type {\n        vertical-align: middle;\n    }\n\n    .dataframe tbody tr th {\n        vertical-align: top;\n    }\n\n    .dataframe thead th {\n        text-align: right;\n    }\n</style>\n<table border=\"1\" class=\"dataframe\">\n  <thead>\n    <tr style=\"text-align: right;\">\n      <th></th>\n      <th>Имя</th>\n      <th>Возраст</th>\n      <th>Пол</th>\n      <th>Оценка_математика</th>\n      <th>Оценка_физика</th>\n      <th>Средняя_оценка</th>\n    </tr>\n  </thead>\n  <tbody>\n    <tr>\n      <th>0</th>\n      <td>Анна</td>\n      <td>21</td>\n      <td>Ж</td>\n      <td>85</td>\n      <td>70</td>\n      <td>None</td>\n    </tr>\n    <tr>\n      <th>1</th>\n      <td>Борис</td>\n      <td>24</td>\n      <td>М</td>\n      <td>70</td>\n      <td>82</td>\n      <td>None</td>\n    </tr>\n    <tr>\n      <th>2</th>\n      <td>Виктория</td>\n      <td>20</td>\n      <td>Ж</td>\n      <td>92</td>\n      <td>88</td>\n      <td>None</td>\n    </tr>\n    <tr>\n      <th>3</th>\n      <td>Дмитрий</td>\n      <td>22</td>\n      <td>М</td>\n      <td>65</td>\n      <td>75</td>\n      <td>None</td>\n    </tr>\n    <tr>\n      <th>4</th>\n      <td>Екатерина</td>\n      <td>23</td>\n      <td>Ж</td>\n      <td>78</td>\n      <td>60</td>\n      <td>None</td>\n    </tr>\n  </tbody>\n</table>\n</div>"
     },
     "execution_count": 11,
     "metadata": {},
     "output_type": "execute_result"
    }
   ],
   "source": [
    "df[\"Средняя_оценка\"] = None\n",
    "df"
   ],
   "metadata": {
    "collapsed": false,
    "ExecuteTime": {
     "end_time": "2023-08-13T10:35:38.097756Z",
     "start_time": "2023-08-13T10:35:37.594446Z"
    }
   }
  },
  {
   "cell_type": "code",
   "execution_count": 12,
   "outputs": [
    {
     "data": {
      "text/plain": "         Имя  Возраст Пол  Оценка_математика  Оценка_физика  Средняя_оценка\n0       Анна       21   Ж                 85             70            77.5\n1      Борис       24   М                 70             82            76.0\n2   Виктория       20   Ж                 92             88            90.0\n3    Дмитрий       22   М                 65             75            70.0\n4  Екатерина       23   Ж                 78             60            69.0",
      "text/html": "<div>\n<style scoped>\n    .dataframe tbody tr th:only-of-type {\n        vertical-align: middle;\n    }\n\n    .dataframe tbody tr th {\n        vertical-align: top;\n    }\n\n    .dataframe thead th {\n        text-align: right;\n    }\n</style>\n<table border=\"1\" class=\"dataframe\">\n  <thead>\n    <tr style=\"text-align: right;\">\n      <th></th>\n      <th>Имя</th>\n      <th>Возраст</th>\n      <th>Пол</th>\n      <th>Оценка_математика</th>\n      <th>Оценка_физика</th>\n      <th>Средняя_оценка</th>\n    </tr>\n  </thead>\n  <tbody>\n    <tr>\n      <th>0</th>\n      <td>Анна</td>\n      <td>21</td>\n      <td>Ж</td>\n      <td>85</td>\n      <td>70</td>\n      <td>77.5</td>\n    </tr>\n    <tr>\n      <th>1</th>\n      <td>Борис</td>\n      <td>24</td>\n      <td>М</td>\n      <td>70</td>\n      <td>82</td>\n      <td>76.0</td>\n    </tr>\n    <tr>\n      <th>2</th>\n      <td>Виктория</td>\n      <td>20</td>\n      <td>Ж</td>\n      <td>92</td>\n      <td>88</td>\n      <td>90.0</td>\n    </tr>\n    <tr>\n      <th>3</th>\n      <td>Дмитрий</td>\n      <td>22</td>\n      <td>М</td>\n      <td>65</td>\n      <td>75</td>\n      <td>70.0</td>\n    </tr>\n    <tr>\n      <th>4</th>\n      <td>Екатерина</td>\n      <td>23</td>\n      <td>Ж</td>\n      <td>78</td>\n      <td>60</td>\n      <td>69.0</td>\n    </tr>\n  </tbody>\n</table>\n</div>"
     },
     "execution_count": 12,
     "metadata": {},
     "output_type": "execute_result"
    }
   ],
   "source": [
    "df.Средняя_оценка = (df.Оценка_математика + df.Оценка_физика) / 2\n",
    "df"
   ],
   "metadata": {
    "collapsed": false,
    "ExecuteTime": {
     "end_time": "2023-08-13T10:35:38.177050Z",
     "start_time": "2023-08-13T10:35:37.623576Z"
    }
   }
  },
  {
   "cell_type": "code",
   "execution_count": 13,
   "outputs": [
    {
     "data": {
      "text/plain": "         Имя  Возраст Пол  Оценка_математика  Оценка_физика  Средняя_оценка\n0       Анна       21   Ж                 85             70            77.5\n1      Борис       24   М                 70             82            76.0\n2   Виктория       20   Ж                 92             88            90.0\n3    Дмитрий       22   М                 65             75            70.0\n4  Екатерина       23   Ж                 78             60            69.0",
      "text/html": "<div>\n<style scoped>\n    .dataframe tbody tr th:only-of-type {\n        vertical-align: middle;\n    }\n\n    .dataframe tbody tr th {\n        vertical-align: top;\n    }\n\n    .dataframe thead th {\n        text-align: right;\n    }\n</style>\n<table border=\"1\" class=\"dataframe\">\n  <thead>\n    <tr style=\"text-align: right;\">\n      <th></th>\n      <th>Имя</th>\n      <th>Возраст</th>\n      <th>Пол</th>\n      <th>Оценка_математика</th>\n      <th>Оценка_физика</th>\n      <th>Средняя_оценка</th>\n    </tr>\n  </thead>\n  <tbody>\n    <tr>\n      <th>0</th>\n      <td>Анна</td>\n      <td>21</td>\n      <td>Ж</td>\n      <td>85</td>\n      <td>70</td>\n      <td>77.5</td>\n    </tr>\n    <tr>\n      <th>1</th>\n      <td>Борис</td>\n      <td>24</td>\n      <td>М</td>\n      <td>70</td>\n      <td>82</td>\n      <td>76.0</td>\n    </tr>\n    <tr>\n      <th>2</th>\n      <td>Виктория</td>\n      <td>20</td>\n      <td>Ж</td>\n      <td>92</td>\n      <td>88</td>\n      <td>90.0</td>\n    </tr>\n    <tr>\n      <th>3</th>\n      <td>Дмитрий</td>\n      <td>22</td>\n      <td>М</td>\n      <td>65</td>\n      <td>75</td>\n      <td>70.0</td>\n    </tr>\n    <tr>\n      <th>4</th>\n      <td>Екатерина</td>\n      <td>23</td>\n      <td>Ж</td>\n      <td>78</td>\n      <td>60</td>\n      <td>69.0</td>\n    </tr>\n  </tbody>\n</table>\n</div>"
     },
     "execution_count": 13,
     "metadata": {},
     "output_type": "execute_result"
    }
   ],
   "source": [
    "df[\"Средняя_оценка\"] = df[[\"Оценка_физика\", \"Оценка_математика\"]].mean(axis=1)\n",
    "df"
   ],
   "metadata": {
    "collapsed": false,
    "ExecuteTime": {
     "end_time": "2023-08-13T10:35:38.259554Z",
     "start_time": "2023-08-13T10:35:37.664059Z"
    }
   }
  },
  {
   "cell_type": "code",
   "execution_count": 14,
   "outputs": [
    {
     "data": {
      "text/plain": "         Имя  Возраст Пол  Оценка_математика  Оценка_физика  Средняя_оценка\n0       Анна       21   Ж                170             70            77.5\n1      Борис       24   М                140             82            76.0\n2   Виктория       20   Ж                184             88            90.0\n3    Дмитрий       22   М                130             75            70.0\n4  Екатерина       23   Ж                156             60            69.0",
      "text/html": "<div>\n<style scoped>\n    .dataframe tbody tr th:only-of-type {\n        vertical-align: middle;\n    }\n\n    .dataframe tbody tr th {\n        vertical-align: top;\n    }\n\n    .dataframe thead th {\n        text-align: right;\n    }\n</style>\n<table border=\"1\" class=\"dataframe\">\n  <thead>\n    <tr style=\"text-align: right;\">\n      <th></th>\n      <th>Имя</th>\n      <th>Возраст</th>\n      <th>Пол</th>\n      <th>Оценка_математика</th>\n      <th>Оценка_физика</th>\n      <th>Средняя_оценка</th>\n    </tr>\n  </thead>\n  <tbody>\n    <tr>\n      <th>0</th>\n      <td>Анна</td>\n      <td>21</td>\n      <td>Ж</td>\n      <td>170</td>\n      <td>70</td>\n      <td>77.5</td>\n    </tr>\n    <tr>\n      <th>1</th>\n      <td>Борис</td>\n      <td>24</td>\n      <td>М</td>\n      <td>140</td>\n      <td>82</td>\n      <td>76.0</td>\n    </tr>\n    <tr>\n      <th>2</th>\n      <td>Виктория</td>\n      <td>20</td>\n      <td>Ж</td>\n      <td>184</td>\n      <td>88</td>\n      <td>90.0</td>\n    </tr>\n    <tr>\n      <th>3</th>\n      <td>Дмитрий</td>\n      <td>22</td>\n      <td>М</td>\n      <td>130</td>\n      <td>75</td>\n      <td>70.0</td>\n    </tr>\n    <tr>\n      <th>4</th>\n      <td>Екатерина</td>\n      <td>23</td>\n      <td>Ж</td>\n      <td>156</td>\n      <td>60</td>\n      <td>69.0</td>\n    </tr>\n  </tbody>\n</table>\n</div>"
     },
     "execution_count": 14,
     "metadata": {},
     "output_type": "execute_result"
    }
   ],
   "source": [
    "# Применим фукцию\n",
    "def double_grade(grade):\n",
    "    return grade * 2\n",
    "\n",
    "\n",
    "df[\"Оценка_математика\"] = df[\"Оценка_математика\"].apply(double_grade)\n",
    "df"
   ],
   "metadata": {
    "collapsed": false,
    "ExecuteTime": {
     "end_time": "2023-08-13T10:35:38.342481Z",
     "start_time": "2023-08-13T10:35:37.678134Z"
    }
   }
  },
  {
   "cell_type": "code",
   "execution_count": 15,
   "outputs": [
    {
     "data": {
      "text/plain": "         Имя  Возраст Пол  Оценка_математика  Оценка_физика  Средняя_оценка  \\\n0       Анна       21   Ж                170             70            77.5   \n1      Борис       24   М                140             82            76.0   \n2   Виктория       20   Ж                184             88            90.0   \n3    Дмитрий       22   М                130             75            70.0   \n4  Екатерина       23   Ж                156             60            69.0   \n\n   Оценка_русский  \n0            70.0  \n1            85.0  \n2             NaN  \n3            50.0  \n4            99.0  ",
      "text/html": "<div>\n<style scoped>\n    .dataframe tbody tr th:only-of-type {\n        vertical-align: middle;\n    }\n\n    .dataframe tbody tr th {\n        vertical-align: top;\n    }\n\n    .dataframe thead th {\n        text-align: right;\n    }\n</style>\n<table border=\"1\" class=\"dataframe\">\n  <thead>\n    <tr style=\"text-align: right;\">\n      <th></th>\n      <th>Имя</th>\n      <th>Возраст</th>\n      <th>Пол</th>\n      <th>Оценка_математика</th>\n      <th>Оценка_физика</th>\n      <th>Средняя_оценка</th>\n      <th>Оценка_русский</th>\n    </tr>\n  </thead>\n  <tbody>\n    <tr>\n      <th>0</th>\n      <td>Анна</td>\n      <td>21</td>\n      <td>Ж</td>\n      <td>170</td>\n      <td>70</td>\n      <td>77.5</td>\n      <td>70.0</td>\n    </tr>\n    <tr>\n      <th>1</th>\n      <td>Борис</td>\n      <td>24</td>\n      <td>М</td>\n      <td>140</td>\n      <td>82</td>\n      <td>76.0</td>\n      <td>85.0</td>\n    </tr>\n    <tr>\n      <th>2</th>\n      <td>Виктория</td>\n      <td>20</td>\n      <td>Ж</td>\n      <td>184</td>\n      <td>88</td>\n      <td>90.0</td>\n      <td>NaN</td>\n    </tr>\n    <tr>\n      <th>3</th>\n      <td>Дмитрий</td>\n      <td>22</td>\n      <td>М</td>\n      <td>130</td>\n      <td>75</td>\n      <td>70.0</td>\n      <td>50.0</td>\n    </tr>\n    <tr>\n      <th>4</th>\n      <td>Екатерина</td>\n      <td>23</td>\n      <td>Ж</td>\n      <td>156</td>\n      <td>60</td>\n      <td>69.0</td>\n      <td>99.0</td>\n    </tr>\n  </tbody>\n</table>\n</div>"
     },
     "execution_count": 15,
     "metadata": {},
     "output_type": "execute_result"
    }
   ],
   "source": [
    "df[\"Оценка_русский\"] = [70, 85, None, 50, 99]\n",
    "df"
   ],
   "metadata": {
    "collapsed": false,
    "ExecuteTime": {
     "end_time": "2023-08-13T10:35:38.394761Z",
     "start_time": "2023-08-13T10:35:37.716015Z"
    }
   }
  },
  {
   "cell_type": "code",
   "execution_count": 16,
   "outputs": [
    {
     "data": {
      "text/plain": "         Имя  Возраст Пол  Оценка_математика  Оценка_физика  Средняя_оценка  \\\n0       Анна       21   Ж                170             70            77.5   \n1      Борис       24   М                140             82            76.0   \n2   Виктория       20   Ж                184             88            90.0   \n3    Дмитрий       22   М                130             75            70.0   \n4  Екатерина       23   Ж                156             60            69.0   \n\n   Оценка_русский  \n0            70.0  \n1            85.0  \n2             NaN  \n3            50.0  \n4            99.0  ",
      "text/html": "<div>\n<style scoped>\n    .dataframe tbody tr th:only-of-type {\n        vertical-align: middle;\n    }\n\n    .dataframe tbody tr th {\n        vertical-align: top;\n    }\n\n    .dataframe thead th {\n        text-align: right;\n    }\n</style>\n<table border=\"1\" class=\"dataframe\">\n  <thead>\n    <tr style=\"text-align: right;\">\n      <th></th>\n      <th>Имя</th>\n      <th>Возраст</th>\n      <th>Пол</th>\n      <th>Оценка_математика</th>\n      <th>Оценка_физика</th>\n      <th>Средняя_оценка</th>\n      <th>Оценка_русский</th>\n    </tr>\n  </thead>\n  <tbody>\n    <tr>\n      <th>0</th>\n      <td>Анна</td>\n      <td>21</td>\n      <td>Ж</td>\n      <td>170</td>\n      <td>70</td>\n      <td>77.5</td>\n      <td>70.0</td>\n    </tr>\n    <tr>\n      <th>1</th>\n      <td>Борис</td>\n      <td>24</td>\n      <td>М</td>\n      <td>140</td>\n      <td>82</td>\n      <td>76.0</td>\n      <td>85.0</td>\n    </tr>\n    <tr>\n      <th>2</th>\n      <td>Виктория</td>\n      <td>20</td>\n      <td>Ж</td>\n      <td>184</td>\n      <td>88</td>\n      <td>90.0</td>\n      <td>NaN</td>\n    </tr>\n    <tr>\n      <th>3</th>\n      <td>Дмитрий</td>\n      <td>22</td>\n      <td>М</td>\n      <td>130</td>\n      <td>75</td>\n      <td>70.0</td>\n      <td>50.0</td>\n    </tr>\n    <tr>\n      <th>4</th>\n      <td>Екатерина</td>\n      <td>23</td>\n      <td>Ж</td>\n      <td>156</td>\n      <td>60</td>\n      <td>69.0</td>\n      <td>99.0</td>\n    </tr>\n  </tbody>\n</table>\n</div>"
     },
     "execution_count": 16,
     "metadata": {},
     "output_type": "execute_result"
    }
   ],
   "source": [
    "df.dropna()\n",
    "df"
   ],
   "metadata": {
    "collapsed": false,
    "ExecuteTime": {
     "end_time": "2023-08-13T10:35:38.478928Z",
     "start_time": "2023-08-13T10:35:37.760698Z"
    }
   }
  },
  {
   "cell_type": "code",
   "execution_count": 17,
   "outputs": [
    {
     "data": {
      "text/plain": "         Имя  Возраст Пол  Оценка_математика  Оценка_физика  Средняя_оценка  \\\n0       Анна       21   Ж                170             70            77.5   \n1      Борис       24   М                140             82            76.0   \n3    Дмитрий       22   М                130             75            70.0   \n4  Екатерина       23   Ж                156             60            69.0   \n\n   Оценка_русский  \n0            70.0  \n1            85.0  \n3            50.0  \n4            99.0  ",
      "text/html": "<div>\n<style scoped>\n    .dataframe tbody tr th:only-of-type {\n        vertical-align: middle;\n    }\n\n    .dataframe tbody tr th {\n        vertical-align: top;\n    }\n\n    .dataframe thead th {\n        text-align: right;\n    }\n</style>\n<table border=\"1\" class=\"dataframe\">\n  <thead>\n    <tr style=\"text-align: right;\">\n      <th></th>\n      <th>Имя</th>\n      <th>Возраст</th>\n      <th>Пол</th>\n      <th>Оценка_математика</th>\n      <th>Оценка_физика</th>\n      <th>Средняя_оценка</th>\n      <th>Оценка_русский</th>\n    </tr>\n  </thead>\n  <tbody>\n    <tr>\n      <th>0</th>\n      <td>Анна</td>\n      <td>21</td>\n      <td>Ж</td>\n      <td>170</td>\n      <td>70</td>\n      <td>77.5</td>\n      <td>70.0</td>\n    </tr>\n    <tr>\n      <th>1</th>\n      <td>Борис</td>\n      <td>24</td>\n      <td>М</td>\n      <td>140</td>\n      <td>82</td>\n      <td>76.0</td>\n      <td>85.0</td>\n    </tr>\n    <tr>\n      <th>3</th>\n      <td>Дмитрий</td>\n      <td>22</td>\n      <td>М</td>\n      <td>130</td>\n      <td>75</td>\n      <td>70.0</td>\n      <td>50.0</td>\n    </tr>\n    <tr>\n      <th>4</th>\n      <td>Екатерина</td>\n      <td>23</td>\n      <td>Ж</td>\n      <td>156</td>\n      <td>60</td>\n      <td>69.0</td>\n      <td>99.0</td>\n    </tr>\n  </tbody>\n</table>\n</div>"
     },
     "execution_count": 17,
     "metadata": {},
     "output_type": "execute_result"
    }
   ],
   "source": [
    "df.dropna(inplace=True)\n",
    "df"
   ],
   "metadata": {
    "collapsed": false,
    "ExecuteTime": {
     "end_time": "2023-08-13T10:35:38.480571Z",
     "start_time": "2023-08-13T10:35:37.803734Z"
    }
   }
  },
  {
   "cell_type": "code",
   "execution_count": 20,
   "outputs": [
    {
     "data": {
      "text/plain": "   PassengerId  Survived  Pclass  \\\n0            1         0       3   \n1            2         1       1   \n2            3         1       3   \n3            4         1       1   \n4            5         0       3   \n\n                                                Name     Sex   Age  SibSp  \\\n0                            Braund, Mr. Owen Harris    male  22.0      1   \n1  Cumings, Mrs. John Bradley (Florence Briggs Th...  female  38.0      1   \n2                             Heikkinen, Miss. Laina  female  26.0      0   \n3       Futrelle, Mrs. Jacques Heath (Lily May Peel)  female  35.0      1   \n4                           Allen, Mr. William Henry    male  35.0      0   \n\n   Parch            Ticket     Fare Cabin Embarked  \n0      0         A/5 21171   7.2500   NaN        S  \n1      0          PC 17599  71.2833   C85        C  \n2      0  STON/O2. 3101282   7.9250   NaN        S  \n3      0            113803  53.1000  C123        S  \n4      0            373450   8.0500   NaN        S  ",
      "text/html": "<div>\n<style scoped>\n    .dataframe tbody tr th:only-of-type {\n        vertical-align: middle;\n    }\n\n    .dataframe tbody tr th {\n        vertical-align: top;\n    }\n\n    .dataframe thead th {\n        text-align: right;\n    }\n</style>\n<table border=\"1\" class=\"dataframe\">\n  <thead>\n    <tr style=\"text-align: right;\">\n      <th></th>\n      <th>PassengerId</th>\n      <th>Survived</th>\n      <th>Pclass</th>\n      <th>Name</th>\n      <th>Sex</th>\n      <th>Age</th>\n      <th>SibSp</th>\n      <th>Parch</th>\n      <th>Ticket</th>\n      <th>Fare</th>\n      <th>Cabin</th>\n      <th>Embarked</th>\n    </tr>\n  </thead>\n  <tbody>\n    <tr>\n      <th>0</th>\n      <td>1</td>\n      <td>0</td>\n      <td>3</td>\n      <td>Braund, Mr. Owen Harris</td>\n      <td>male</td>\n      <td>22.0</td>\n      <td>1</td>\n      <td>0</td>\n      <td>A/5 21171</td>\n      <td>7.2500</td>\n      <td>NaN</td>\n      <td>S</td>\n    </tr>\n    <tr>\n      <th>1</th>\n      <td>2</td>\n      <td>1</td>\n      <td>1</td>\n      <td>Cumings, Mrs. John Bradley (Florence Briggs Th...</td>\n      <td>female</td>\n      <td>38.0</td>\n      <td>1</td>\n      <td>0</td>\n      <td>PC 17599</td>\n      <td>71.2833</td>\n      <td>C85</td>\n      <td>C</td>\n    </tr>\n    <tr>\n      <th>2</th>\n      <td>3</td>\n      <td>1</td>\n      <td>3</td>\n      <td>Heikkinen, Miss. Laina</td>\n      <td>female</td>\n      <td>26.0</td>\n      <td>0</td>\n      <td>0</td>\n      <td>STON/O2. 3101282</td>\n      <td>7.9250</td>\n      <td>NaN</td>\n      <td>S</td>\n    </tr>\n    <tr>\n      <th>3</th>\n      <td>4</td>\n      <td>1</td>\n      <td>1</td>\n      <td>Futrelle, Mrs. Jacques Heath (Lily May Peel)</td>\n      <td>female</td>\n      <td>35.0</td>\n      <td>1</td>\n      <td>0</td>\n      <td>113803</td>\n      <td>53.1000</td>\n      <td>C123</td>\n      <td>S</td>\n    </tr>\n    <tr>\n      <th>4</th>\n      <td>5</td>\n      <td>0</td>\n      <td>3</td>\n      <td>Allen, Mr. William Henry</td>\n      <td>male</td>\n      <td>35.0</td>\n      <td>0</td>\n      <td>0</td>\n      <td>373450</td>\n      <td>8.0500</td>\n      <td>NaN</td>\n      <td>S</td>\n    </tr>\n  </tbody>\n</table>\n</div>"
     },
     "execution_count": 20,
     "metadata": {},
     "output_type": "execute_result"
    }
   ],
   "source": [
    "# Возьмем данные с титаника\n",
    "path = 'titanic.csv'\n",
    "\n",
    "data = pd.read_csv(path)\n",
    "data.head()"
   ],
   "metadata": {
    "collapsed": false,
    "ExecuteTime": {
     "end_time": "2023-08-13T10:36:19.760488Z",
     "start_time": "2023-08-13T10:36:19.328112Z"
    }
   }
  },
  {
   "cell_type": "code",
   "execution_count": 24,
   "outputs": [
    {
     "data": {
      "text/plain": "891"
     },
     "execution_count": 24,
     "metadata": {},
     "output_type": "execute_result"
    }
   ],
   "source": [
    "# Задание 1: Вывести общее количество пассажиров в наборе данных.\n",
    "\n",
    "amount_of_passengers = len(data)\n",
    "amount_of_passengers"
   ],
   "metadata": {
    "collapsed": false,
    "ExecuteTime": {
     "end_time": "2023-08-13T10:39:07.323574Z",
     "start_time": "2023-08-13T10:39:07.289755Z"
    }
   }
  },
  {
   "cell_type": "code",
   "execution_count": 26,
   "outputs": [
    {
     "data": {
      "text/plain": "342"
     },
     "execution_count": 26,
     "metadata": {},
     "output_type": "execute_result"
    }
   ],
   "source": [
    "# Задание 2: Подсчитать количество выживших и погибших пассажиров.\n",
    "\n",
    "survived = data[data[\"Survived\"] == 1]\n",
    "len(survived)"
   ],
   "metadata": {
    "collapsed": false,
    "ExecuteTime": {
     "end_time": "2023-08-13T10:40:32.598438Z",
     "start_time": "2023-08-13T10:40:32.479388Z"
    }
   }
  },
  {
   "cell_type": "code",
   "execution_count": 46,
   "outputs": [
    {
     "data": {
      "text/plain": "549"
     },
     "execution_count": 46,
     "metadata": {},
     "output_type": "execute_result"
    }
   ],
   "source": [
    "dead = data[data[\"Survived\"] == 0]\n",
    "len(dead)"
   ],
   "metadata": {
    "collapsed": false,
    "ExecuteTime": {
     "end_time": "2023-08-13T10:54:31.239766Z",
     "start_time": "2023-08-13T10:54:31.193894Z"
    }
   }
  },
  {
   "cell_type": "code",
   "execution_count": 49,
   "outputs": [
    {
     "data": {
      "text/plain": "Survived\n0    549\n1    342\nName: count, dtype: int64"
     },
     "execution_count": 49,
     "metadata": {},
     "output_type": "execute_result"
    }
   ],
   "source": [
    "# Более предпочтительно\n",
    "survived_count = data['Survived'].value_counts()\n",
    "survived_count"
   ],
   "metadata": {
    "collapsed": false,
    "ExecuteTime": {
     "end_time": "2023-08-13T10:55:00.438289Z",
     "start_time": "2023-08-13T10:55:00.402748Z"
    }
   }
  },
  {
   "cell_type": "code",
   "execution_count": 30,
   "outputs": [
    {
     "data": {
      "text/plain": "True"
     },
     "execution_count": 30,
     "metadata": {},
     "output_type": "execute_result"
    }
   ],
   "source": [
    "# Проверка\n",
    "len(survived) + len(dead) == len(data)"
   ],
   "metadata": {
    "collapsed": false,
    "ExecuteTime": {
     "end_time": "2023-08-13T10:42:01.189381Z",
     "start_time": "2023-08-13T10:42:01.151338Z"
    }
   }
  },
  {
   "cell_type": "code",
   "execution_count": 32,
   "outputs": [
    {
     "data": {
      "text/plain": "30.0"
     },
     "execution_count": 32,
     "metadata": {},
     "output_type": "execute_result"
    }
   ],
   "source": [
    "# Задание 3: Найти средний возраст пассажиров.\n",
    "\n",
    "mean_age = data[\"Age\"].mean().round()\n",
    "mean_age"
   ],
   "metadata": {
    "collapsed": false,
    "ExecuteTime": {
     "end_time": "2023-08-13T10:42:51.700932Z",
     "start_time": "2023-08-13T10:42:51.626560Z"
    }
   }
  },
  {
   "cell_type": "code",
   "execution_count": 36,
   "outputs": [
    {
     "data": {
      "text/plain": "35.24130190796858"
     },
     "execution_count": 36,
     "metadata": {},
     "output_type": "execute_result"
    }
   ],
   "source": [
    "# Задание 4: Определить долю мужчин и женщин среди пассажиров.\n",
    "\n",
    "women = len(data[data[\"Sex\"] == 'female']) / len(data) * 100\n",
    "women"
   ],
   "metadata": {
    "collapsed": false,
    "ExecuteTime": {
     "end_time": "2023-08-13T10:44:43.811737Z",
     "start_time": "2023-08-13T10:44:43.759145Z"
    }
   }
  },
  {
   "cell_type": "code",
   "execution_count": 37,
   "outputs": [
    {
     "data": {
      "text/plain": "64.75869809203144"
     },
     "execution_count": 37,
     "metadata": {},
     "output_type": "execute_result"
    }
   ],
   "source": [
    "men = len(data[data[\"Sex\"] == 'male']) / len(data) * 100\n",
    "men"
   ],
   "metadata": {
    "collapsed": false,
    "ExecuteTime": {
     "end_time": "2023-08-13T10:45:02.904924Z",
     "start_time": "2023-08-13T10:45:02.823721Z"
    }
   }
  },
  {
   "cell_type": "code",
   "execution_count": 53,
   "outputs": [
    {
     "data": {
      "text/plain": "Sex\nmale      0.647587\nfemale    0.352413\nName: proportion, dtype: float64"
     },
     "execution_count": 53,
     "metadata": {},
     "output_type": "execute_result"
    }
   ],
   "source": [
    "# Более предпочтительно\n",
    "gender_ratio = data['Sex'].value_counts(normalize=True)\n",
    "gender_ratio"
   ],
   "metadata": {
    "collapsed": false,
    "ExecuteTime": {
     "end_time": "2023-08-13T10:56:33.690229Z",
     "start_time": "2023-08-13T10:56:33.635679Z"
    }
   }
  },
  {
   "cell_type": "code",
   "execution_count": 40,
   "outputs": [
    {
     "data": {
      "text/plain": "True"
     },
     "execution_count": 40,
     "metadata": {},
     "output_type": "execute_result"
    }
   ],
   "source": [
    "# Проверка\n",
    "round(women + men) == 100"
   ],
   "metadata": {
    "collapsed": false,
    "ExecuteTime": {
     "end_time": "2023-08-13T10:45:36.639153Z",
     "start_time": "2023-08-13T10:45:36.591610Z"
    }
   }
  },
  {
   "cell_type": "code",
   "execution_count": 43,
   "outputs": [
    {
     "data": {
      "text/plain": "(512.3292, 0.0)"
     },
     "execution_count": 43,
     "metadata": {},
     "output_type": "execute_result"
    }
   ],
   "source": [
    "# Задание 5: Найти самую высокую и самую низкую стоимость билета.\n",
    "\n",
    "highest_price = data[\"Fare\"].max()\n",
    "lowest_price = data[\"Fare\"].min()\n",
    "highest_price, lowest_price"
   ],
   "metadata": {
    "collapsed": false,
    "ExecuteTime": {
     "end_time": "2023-08-13T10:51:19.844458Z",
     "start_time": "2023-08-13T10:51:19.796373Z"
    }
   }
  },
  {
   "cell_type": "code",
   "execution_count": 56,
   "outputs": [
    {
     "data": {
      "text/plain": "Pclass\n1    216\n2    184\n3    491\nName: count, dtype: int64"
     },
     "execution_count": 56,
     "metadata": {},
     "output_type": "execute_result"
    }
   ],
   "source": [
    "# Задание 6: Подсчитать количество пассажиров в каждом классе.\n",
    "\n",
    "passengers_per_class = data[\"Pclass\"].value_counts().sort_index()\n",
    "passengers_per_class"
   ],
   "metadata": {
    "collapsed": false,
    "ExecuteTime": {
     "end_time": "2023-08-13T10:58:29.286311Z",
     "start_time": "2023-08-13T10:58:29.233616Z"
    }
   }
  },
  {
   "cell_type": "code",
   "execution_count": 57,
   "outputs": [
    {
     "data": {
      "text/plain": "Pclass\n1    38.233441\n2    29.877630\n3    25.140620\nName: Age, dtype: float64"
     },
     "execution_count": 57,
     "metadata": {},
     "output_type": "execute_result"
    }
   ],
   "source": [
    "# Задание 7: Найти средний возраст пассажиров для каждого класса.\n",
    "\n",
    "mean_age_per_class = data.groupby(\"Pclass\")[\"Age\"].mean()\n",
    "mean_age_per_class"
   ],
   "metadata": {
    "collapsed": false,
    "ExecuteTime": {
     "end_time": "2023-08-13T11:00:19.799062Z",
     "start_time": "2023-08-13T11:00:19.704074Z"
    }
   }
  },
  {
   "cell_type": "code",
   "execution_count": 60,
   "outputs": [
    {
     "data": {
      "text/plain": "Возрастная_группа\nВзрослые    575\nПожилые     203\nДети        113\nName: count, dtype: int64"
     },
     "execution_count": 60,
     "metadata": {},
     "output_type": "execute_result"
    }
   ],
   "source": [
    "# Задание 8: Создать новый столбец Возрастная_группа, разделив пассажиров на возрастные группы.\n",
    "\n",
    "def make_groups(age):\n",
    "    if age < 18:\n",
    "        return \"Дети\"\n",
    "    elif age < 60:\n",
    "        return \"Взрослые\"\n",
    "    else:\n",
    "        return \"Пожилые\"\n",
    "\n",
    "\n",
    "data[\"Возрастная_группа\"] = data[\"Age\"].apply(make_groups)\n",
    "data['Возрастная_группа'].value_counts()"
   ],
   "metadata": {
    "collapsed": false,
    "ExecuteTime": {
     "end_time": "2023-08-13T11:03:33.756367Z",
     "start_time": "2023-08-13T11:03:33.631472Z"
    }
   }
  },
  {
   "cell_type": "code",
   "execution_count": 61,
   "outputs": [
    {
     "data": {
      "text/plain": "Sex     Pclass\nfemale  1         0.968085\n        2         0.921053\n        3         0.500000\nmale    1         0.368852\n        2         0.157407\n        3         0.135447\nName: Survived, dtype: float64"
     },
     "execution_count": 61,
     "metadata": {},
     "output_type": "execute_result"
    }
   ],
   "source": [
    "# Задание 9: Найти среднюю выживаемость пассажиров в зависимости от пола и класса.\n",
    "\n",
    "survival_rate_by_sex_class = data.groupby([\"Sex\", \"Pclass\"])[\"Survived\"].mean()\n",
    "survival_rate_by_sex_class"
   ],
   "metadata": {
    "collapsed": false,
    "ExecuteTime": {
     "end_time": "2023-08-13T11:05:54.990843Z",
     "start_time": "2023-08-13T11:05:54.895740Z"
    }
   }
  },
  {
   "cell_type": "code",
   "execution_count": 77,
   "outputs": [
    {
     "data": {
      "text/plain": "Name\nMary                        6\nBertha                      4\nAnna Sofia                  3\nAnna                        3\nKate                        2\n                           ..\nEmily Borie                 1\nWilliam (Anna Sylfven)      1\nHelmina Josefina            1\nSinai (Miriam Sternin)      1\nCatherine Helen \"Carrie\"    1\nName: count, Length: 295, dtype: int64"
     },
     "execution_count": 77,
     "metadata": {},
     "output_type": "execute_result"
    }
   ],
   "source": [
    "# Задание 10: Определить самое популярное женское имя среди пассажиров.\n",
    "\n",
    "def extract_first_name(fullname):\n",
    "    return fullname.split(',')[1].split('.')[1].strip()\n",
    "\n",
    "\n",
    "female_first_names = data[data[\"Sex\"] == 'female'][\"Name\"].apply(extract_first_name)\n",
    "most_popular_female_names = female_first_names.value_counts()\n",
    "most_popular_female_names"
   ],
   "metadata": {
    "collapsed": false,
    "ExecuteTime": {
     "end_time": "2023-08-13T11:14:45.464712Z",
     "start_time": "2023-08-13T11:14:45.394613Z"
    }
   }
  },
  {
   "cell_type": "code",
   "execution_count": 84,
   "outputs": [
    {
     "data": {
      "text/plain": "'Mary'"
     },
     "execution_count": 84,
     "metadata": {},
     "output_type": "execute_result"
    }
   ],
   "source": [
    "most_popular_female_name = most_popular_female_names.idxmax()\n",
    "most_popular_female_name"
   ],
   "metadata": {
    "collapsed": false,
    "ExecuteTime": {
     "end_time": "2023-08-13T11:16:13.667052Z",
     "start_time": "2023-08-13T11:16:13.564522Z"
    }
   }
  }
 ],
 "metadata": {
  "kernelspec": {
   "display_name": "Python 3",
   "language": "python",
   "name": "python3"
  },
  "language_info": {
   "codemirror_mode": {
    "name": "ipython",
    "version": 2
   },
   "file_extension": ".py",
   "mimetype": "text/x-python",
   "name": "python",
   "nbconvert_exporter": "python",
   "pygments_lexer": "ipython2",
   "version": "2.7.6"
  }
 },
 "nbformat": 4,
 "nbformat_minor": 0
}
