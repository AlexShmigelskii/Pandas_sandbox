{
 "cells": [
  {
   "cell_type": "code",
   "execution_count": 51,
   "metadata": {
    "collapsed": true,
    "ExecuteTime": {
     "end_time": "2023-08-12T14:50:02.751305Z",
     "start_time": "2023-08-12T14:50:02.571728Z"
    }
   },
   "outputs": [],
   "source": [
    "import pandas as pd\n",
    "\n",
    "\n",
    "# Создадим набор данных в виде словаря\n",
    "data = {\n",
    "    'Имя': ['Анна', 'Борис', 'Виктория', 'Дмитрий', 'Екатерина'],\n",
    "    'Возраст': [21, 24, 20, 22, 23],\n",
    "    'Пол': ['Ж', 'М', 'Ж', 'М', 'Ж'],\n",
    "    'Оценка_математика': [85, 70, 92, 65, 78],\n",
    "    'Оценка_физика': [70, 82, 88, 75, 60]\n",
    "}\n"
   ]
  },
  {
   "cell_type": "code",
   "execution_count": 52,
   "outputs": [],
   "source": [
    "# Создаем оъект DataFrame из словаря\n",
    "df = pd.DataFrame(data)"
   ],
   "metadata": {
    "collapsed": false,
    "ExecuteTime": {
     "end_time": "2023-08-12T14:50:02.752267Z",
     "start_time": "2023-08-12T14:50:02.577909Z"
    }
   }
  },
  {
   "cell_type": "code",
   "execution_count": 53,
   "outputs": [
    {
     "data": {
      "text/plain": "         Имя  Возраст Пол  Оценка_математика  Оценка_физика\n0       Анна       21   Ж                 85             70\n1      Борис       24   М                 70             82\n2   Виктория       20   Ж                 92             88\n3    Дмитрий       22   М                 65             75\n4  Екатерина       23   Ж                 78             60",
      "text/html": "<div>\n<style scoped>\n    .dataframe tbody tr th:only-of-type {\n        vertical-align: middle;\n    }\n\n    .dataframe tbody tr th {\n        vertical-align: top;\n    }\n\n    .dataframe thead th {\n        text-align: right;\n    }\n</style>\n<table border=\"1\" class=\"dataframe\">\n  <thead>\n    <tr style=\"text-align: right;\">\n      <th></th>\n      <th>Имя</th>\n      <th>Возраст</th>\n      <th>Пол</th>\n      <th>Оценка_математика</th>\n      <th>Оценка_физика</th>\n    </tr>\n  </thead>\n  <tbody>\n    <tr>\n      <th>0</th>\n      <td>Анна</td>\n      <td>21</td>\n      <td>Ж</td>\n      <td>85</td>\n      <td>70</td>\n    </tr>\n    <tr>\n      <th>1</th>\n      <td>Борис</td>\n      <td>24</td>\n      <td>М</td>\n      <td>70</td>\n      <td>82</td>\n    </tr>\n    <tr>\n      <th>2</th>\n      <td>Виктория</td>\n      <td>20</td>\n      <td>Ж</td>\n      <td>92</td>\n      <td>88</td>\n    </tr>\n    <tr>\n      <th>3</th>\n      <td>Дмитрий</td>\n      <td>22</td>\n      <td>М</td>\n      <td>65</td>\n      <td>75</td>\n    </tr>\n    <tr>\n      <th>4</th>\n      <td>Екатерина</td>\n      <td>23</td>\n      <td>Ж</td>\n      <td>78</td>\n      <td>60</td>\n    </tr>\n  </tbody>\n</table>\n</div>"
     },
     "execution_count": 53,
     "metadata": {},
     "output_type": "execute_result"
    }
   ],
   "source": [
    "df"
   ],
   "metadata": {
    "collapsed": false,
    "ExecuteTime": {
     "end_time": "2023-08-12T14:50:02.754839Z",
     "start_time": "2023-08-12T14:50:02.598251Z"
    }
   }
  },
  {
   "cell_type": "code",
   "execution_count": 54,
   "outputs": [
    {
     "data": {
      "text/plain": "        Имя  Возраст Пол  Оценка_математика  Оценка_физика\n0      Анна       21   Ж                 85             70\n1     Борис       24   М                 70             82\n2  Виктория       20   Ж                 92             88",
      "text/html": "<div>\n<style scoped>\n    .dataframe tbody tr th:only-of-type {\n        vertical-align: middle;\n    }\n\n    .dataframe tbody tr th {\n        vertical-align: top;\n    }\n\n    .dataframe thead th {\n        text-align: right;\n    }\n</style>\n<table border=\"1\" class=\"dataframe\">\n  <thead>\n    <tr style=\"text-align: right;\">\n      <th></th>\n      <th>Имя</th>\n      <th>Возраст</th>\n      <th>Пол</th>\n      <th>Оценка_математика</th>\n      <th>Оценка_физика</th>\n    </tr>\n  </thead>\n  <tbody>\n    <tr>\n      <th>0</th>\n      <td>Анна</td>\n      <td>21</td>\n      <td>Ж</td>\n      <td>85</td>\n      <td>70</td>\n    </tr>\n    <tr>\n      <th>1</th>\n      <td>Борис</td>\n      <td>24</td>\n      <td>М</td>\n      <td>70</td>\n      <td>82</td>\n    </tr>\n    <tr>\n      <th>2</th>\n      <td>Виктория</td>\n      <td>20</td>\n      <td>Ж</td>\n      <td>92</td>\n      <td>88</td>\n    </tr>\n  </tbody>\n</table>\n</div>"
     },
     "execution_count": 54,
     "metadata": {},
     "output_type": "execute_result"
    }
   ],
   "source": [
    "df.head(3)"
   ],
   "metadata": {
    "collapsed": false,
    "ExecuteTime": {
     "end_time": "2023-08-12T14:50:02.777888Z",
     "start_time": "2023-08-12T14:50:02.612208Z"
    }
   }
  },
  {
   "cell_type": "code",
   "execution_count": 55,
   "outputs": [
    {
     "data": {
      "text/plain": "         Имя  Оценка_математика\n0       Анна                 85\n1      Борис                 70\n2   Виктория                 92\n3    Дмитрий                 65\n4  Екатерина                 78",
      "text/html": "<div>\n<style scoped>\n    .dataframe tbody tr th:only-of-type {\n        vertical-align: middle;\n    }\n\n    .dataframe tbody tr th {\n        vertical-align: top;\n    }\n\n    .dataframe thead th {\n        text-align: right;\n    }\n</style>\n<table border=\"1\" class=\"dataframe\">\n  <thead>\n    <tr style=\"text-align: right;\">\n      <th></th>\n      <th>Имя</th>\n      <th>Оценка_математика</th>\n    </tr>\n  </thead>\n  <tbody>\n    <tr>\n      <th>0</th>\n      <td>Анна</td>\n      <td>85</td>\n    </tr>\n    <tr>\n      <th>1</th>\n      <td>Борис</td>\n      <td>70</td>\n    </tr>\n    <tr>\n      <th>2</th>\n      <td>Виктория</td>\n      <td>92</td>\n    </tr>\n    <tr>\n      <th>3</th>\n      <td>Дмитрий</td>\n      <td>65</td>\n    </tr>\n    <tr>\n      <th>4</th>\n      <td>Екатерина</td>\n      <td>78</td>\n    </tr>\n  </tbody>\n</table>\n</div>"
     },
     "execution_count": 55,
     "metadata": {},
     "output_type": "execute_result"
    }
   ],
   "source": [
    "selected_columns = df[[\"Имя\", \"Оценка_математика\"]]\n",
    "selected_columns"
   ],
   "metadata": {
    "collapsed": false,
    "ExecuteTime": {
     "end_time": "2023-08-12T14:50:02.782939Z",
     "start_time": "2023-08-12T14:50:02.652498Z"
    }
   }
  },
  {
   "cell_type": "code",
   "execution_count": 56,
   "outputs": [
    {
     "data": {
      "text/plain": "         Имя  Возраст Пол  Оценка_математика  Оценка_физика\n1      Борис       24   М                 70             82\n4  Екатерина       23   Ж                 78             60",
      "text/html": "<div>\n<style scoped>\n    .dataframe tbody tr th:only-of-type {\n        vertical-align: middle;\n    }\n\n    .dataframe tbody tr th {\n        vertical-align: top;\n    }\n\n    .dataframe thead th {\n        text-align: right;\n    }\n</style>\n<table border=\"1\" class=\"dataframe\">\n  <thead>\n    <tr style=\"text-align: right;\">\n      <th></th>\n      <th>Имя</th>\n      <th>Возраст</th>\n      <th>Пол</th>\n      <th>Оценка_математика</th>\n      <th>Оценка_физика</th>\n    </tr>\n  </thead>\n  <tbody>\n    <tr>\n      <th>1</th>\n      <td>Борис</td>\n      <td>24</td>\n      <td>М</td>\n      <td>70</td>\n      <td>82</td>\n    </tr>\n    <tr>\n      <th>4</th>\n      <td>Екатерина</td>\n      <td>23</td>\n      <td>Ж</td>\n      <td>78</td>\n      <td>60</td>\n    </tr>\n  </tbody>\n</table>\n</div>"
     },
     "execution_count": 56,
     "metadata": {},
     "output_type": "execute_result"
    }
   ],
   "source": [
    "filtered_data = df[df[\"Возраст\"] > 22]\n",
    "filtered_data"
   ],
   "metadata": {
    "collapsed": false,
    "ExecuteTime": {
     "end_time": "2023-08-12T14:50:02.787698Z",
     "start_time": "2023-08-12T14:50:02.697207Z"
    }
   }
  },
  {
   "cell_type": "code",
   "execution_count": 57,
   "outputs": [
    {
     "data": {
      "text/plain": "     Оценка_математика  Оценка_физика\nПол                                  \nЖ                 85.0           72.7\nМ                 67.5           78.5",
      "text/html": "<div>\n<style scoped>\n    .dataframe tbody tr th:only-of-type {\n        vertical-align: middle;\n    }\n\n    .dataframe tbody tr th {\n        vertical-align: top;\n    }\n\n    .dataframe thead th {\n        text-align: right;\n    }\n</style>\n<table border=\"1\" class=\"dataframe\">\n  <thead>\n    <tr style=\"text-align: right;\">\n      <th></th>\n      <th>Оценка_математика</th>\n      <th>Оценка_физика</th>\n    </tr>\n    <tr>\n      <th>Пол</th>\n      <th></th>\n      <th></th>\n    </tr>\n  </thead>\n  <tbody>\n    <tr>\n      <th>Ж</th>\n      <td>85.0</td>\n      <td>72.7</td>\n    </tr>\n    <tr>\n      <th>М</th>\n      <td>67.5</td>\n      <td>78.5</td>\n    </tr>\n  </tbody>\n</table>\n</div>"
     },
     "execution_count": 57,
     "metadata": {},
     "output_type": "execute_result"
    }
   ],
   "source": [
    "grouped_by_sex = df.groupby(\"Пол\")[['Оценка_математика', \"Оценка_физика\"]].mean()\n",
    "grouped_by_sex[\"Оценка_физика\"] = round(grouped_by_sex[\"Оценка_физика\"], 1)\n",
    "grouped_by_sex"
   ],
   "metadata": {
    "collapsed": false,
    "ExecuteTime": {
     "end_time": "2023-08-12T14:50:02.790206Z",
     "start_time": "2023-08-12T14:50:02.743928Z"
    }
   }
  },
  {
   "cell_type": "code",
   "execution_count": 58,
   "outputs": [
    {
     "data": {
      "text/plain": "     Оценка_математика  Оценка_физика\nПол                                  \nЖ                 85.0           73.0\nМ                 68.0           78.0",
      "text/html": "<div>\n<style scoped>\n    .dataframe tbody tr th:only-of-type {\n        vertical-align: middle;\n    }\n\n    .dataframe tbody tr th {\n        vertical-align: top;\n    }\n\n    .dataframe thead th {\n        text-align: right;\n    }\n</style>\n<table border=\"1\" class=\"dataframe\">\n  <thead>\n    <tr style=\"text-align: right;\">\n      <th></th>\n      <th>Оценка_математика</th>\n      <th>Оценка_физика</th>\n    </tr>\n    <tr>\n      <th>Пол</th>\n      <th></th>\n      <th></th>\n    </tr>\n  </thead>\n  <tbody>\n    <tr>\n      <th>Ж</th>\n      <td>85.0</td>\n      <td>73.0</td>\n    </tr>\n    <tr>\n      <th>М</th>\n      <td>68.0</td>\n      <td>78.0</td>\n    </tr>\n  </tbody>\n</table>\n</div>"
     },
     "execution_count": 58,
     "metadata": {},
     "output_type": "execute_result"
    }
   ],
   "source": [
    "grouped_by_sex = df.groupby(\"Пол\")[['Оценка_математика', \"Оценка_физика\"]].mean().round()\n",
    "grouped_by_sex"
   ],
   "metadata": {
    "collapsed": false,
    "ExecuteTime": {
     "end_time": "2023-08-12T14:50:02.877328Z",
     "start_time": "2023-08-12T14:50:02.790981Z"
    }
   }
  },
  {
   "cell_type": "code",
   "execution_count": 59,
   "outputs": [
    {
     "data": {
      "text/plain": "         Имя  Возраст Пол  Оценка_математика  Оценка_физика\n2   Виктория       20   Ж                 92             88\n1      Борис       24   М                 70             82\n3    Дмитрий       22   М                 65             75\n0       Анна       21   Ж                 85             70\n4  Екатерина       23   Ж                 78             60",
      "text/html": "<div>\n<style scoped>\n    .dataframe tbody tr th:only-of-type {\n        vertical-align: middle;\n    }\n\n    .dataframe tbody tr th {\n        vertical-align: top;\n    }\n\n    .dataframe thead th {\n        text-align: right;\n    }\n</style>\n<table border=\"1\" class=\"dataframe\">\n  <thead>\n    <tr style=\"text-align: right;\">\n      <th></th>\n      <th>Имя</th>\n      <th>Возраст</th>\n      <th>Пол</th>\n      <th>Оценка_математика</th>\n      <th>Оценка_физика</th>\n    </tr>\n  </thead>\n  <tbody>\n    <tr>\n      <th>2</th>\n      <td>Виктория</td>\n      <td>20</td>\n      <td>Ж</td>\n      <td>92</td>\n      <td>88</td>\n    </tr>\n    <tr>\n      <th>1</th>\n      <td>Борис</td>\n      <td>24</td>\n      <td>М</td>\n      <td>70</td>\n      <td>82</td>\n    </tr>\n    <tr>\n      <th>3</th>\n      <td>Дмитрий</td>\n      <td>22</td>\n      <td>М</td>\n      <td>65</td>\n      <td>75</td>\n    </tr>\n    <tr>\n      <th>0</th>\n      <td>Анна</td>\n      <td>21</td>\n      <td>Ж</td>\n      <td>85</td>\n      <td>70</td>\n    </tr>\n    <tr>\n      <th>4</th>\n      <td>Екатерина</td>\n      <td>23</td>\n      <td>Ж</td>\n      <td>78</td>\n      <td>60</td>\n    </tr>\n  </tbody>\n</table>\n</div>"
     },
     "execution_count": 59,
     "metadata": {},
     "output_type": "execute_result"
    }
   ],
   "source": [
    "sorted_df = df.sort_values([\"Оценка_физика\", \"Оценка_математика\"], ascending=False)\n",
    "sorted_df"
   ],
   "metadata": {
    "collapsed": false,
    "ExecuteTime": {
     "end_time": "2023-08-12T14:50:03.063911Z",
     "start_time": "2023-08-12T14:50:02.813170Z"
    }
   }
  },
  {
   "cell_type": "code",
   "execution_count": 60,
   "outputs": [
    {
     "data": {
      "text/plain": "         Имя  Возраст Пол  Оценка_математика  Оценка_физика Средняя_оценка\n0       Анна       21   Ж                 85             70           None\n1      Борис       24   М                 70             82           None\n2   Виктория       20   Ж                 92             88           None\n3    Дмитрий       22   М                 65             75           None\n4  Екатерина       23   Ж                 78             60           None",
      "text/html": "<div>\n<style scoped>\n    .dataframe tbody tr th:only-of-type {\n        vertical-align: middle;\n    }\n\n    .dataframe tbody tr th {\n        vertical-align: top;\n    }\n\n    .dataframe thead th {\n        text-align: right;\n    }\n</style>\n<table border=\"1\" class=\"dataframe\">\n  <thead>\n    <tr style=\"text-align: right;\">\n      <th></th>\n      <th>Имя</th>\n      <th>Возраст</th>\n      <th>Пол</th>\n      <th>Оценка_математика</th>\n      <th>Оценка_физика</th>\n      <th>Средняя_оценка</th>\n    </tr>\n  </thead>\n  <tbody>\n    <tr>\n      <th>0</th>\n      <td>Анна</td>\n      <td>21</td>\n      <td>Ж</td>\n      <td>85</td>\n      <td>70</td>\n      <td>None</td>\n    </tr>\n    <tr>\n      <th>1</th>\n      <td>Борис</td>\n      <td>24</td>\n      <td>М</td>\n      <td>70</td>\n      <td>82</td>\n      <td>None</td>\n    </tr>\n    <tr>\n      <th>2</th>\n      <td>Виктория</td>\n      <td>20</td>\n      <td>Ж</td>\n      <td>92</td>\n      <td>88</td>\n      <td>None</td>\n    </tr>\n    <tr>\n      <th>3</th>\n      <td>Дмитрий</td>\n      <td>22</td>\n      <td>М</td>\n      <td>65</td>\n      <td>75</td>\n      <td>None</td>\n    </tr>\n    <tr>\n      <th>4</th>\n      <td>Екатерина</td>\n      <td>23</td>\n      <td>Ж</td>\n      <td>78</td>\n      <td>60</td>\n      <td>None</td>\n    </tr>\n  </tbody>\n</table>\n</div>"
     },
     "execution_count": 60,
     "metadata": {},
     "output_type": "execute_result"
    }
   ],
   "source": [
    "df[\"Средняя_оценка\"] = None\n",
    "df"
   ],
   "metadata": {
    "collapsed": false,
    "ExecuteTime": {
     "end_time": "2023-08-12T14:50:03.155964Z",
     "start_time": "2023-08-12T14:50:02.857761Z"
    }
   }
  },
  {
   "cell_type": "code",
   "execution_count": 62,
   "outputs": [
    {
     "data": {
      "text/plain": "         Имя  Возраст Пол  Оценка_математика  Оценка_физика  Средняя_оценка\n0       Анна       21   Ж                 85             70            77.5\n1      Борис       24   М                 70             82            76.0\n2   Виктория       20   Ж                 92             88            90.0\n3    Дмитрий       22   М                 65             75            70.0\n4  Екатерина       23   Ж                 78             60            69.0",
      "text/html": "<div>\n<style scoped>\n    .dataframe tbody tr th:only-of-type {\n        vertical-align: middle;\n    }\n\n    .dataframe tbody tr th {\n        vertical-align: top;\n    }\n\n    .dataframe thead th {\n        text-align: right;\n    }\n</style>\n<table border=\"1\" class=\"dataframe\">\n  <thead>\n    <tr style=\"text-align: right;\">\n      <th></th>\n      <th>Имя</th>\n      <th>Возраст</th>\n      <th>Пол</th>\n      <th>Оценка_математика</th>\n      <th>Оценка_физика</th>\n      <th>Средняя_оценка</th>\n    </tr>\n  </thead>\n  <tbody>\n    <tr>\n      <th>0</th>\n      <td>Анна</td>\n      <td>21</td>\n      <td>Ж</td>\n      <td>85</td>\n      <td>70</td>\n      <td>77.5</td>\n    </tr>\n    <tr>\n      <th>1</th>\n      <td>Борис</td>\n      <td>24</td>\n      <td>М</td>\n      <td>70</td>\n      <td>82</td>\n      <td>76.0</td>\n    </tr>\n    <tr>\n      <th>2</th>\n      <td>Виктория</td>\n      <td>20</td>\n      <td>Ж</td>\n      <td>92</td>\n      <td>88</td>\n      <td>90.0</td>\n    </tr>\n    <tr>\n      <th>3</th>\n      <td>Дмитрий</td>\n      <td>22</td>\n      <td>М</td>\n      <td>65</td>\n      <td>75</td>\n      <td>70.0</td>\n    </tr>\n    <tr>\n      <th>4</th>\n      <td>Екатерина</td>\n      <td>23</td>\n      <td>Ж</td>\n      <td>78</td>\n      <td>60</td>\n      <td>69.0</td>\n    </tr>\n  </tbody>\n</table>\n</div>"
     },
     "execution_count": 62,
     "metadata": {},
     "output_type": "execute_result"
    }
   ],
   "source": [
    "df.Средняя_оценка = (df.Оценка_математика + df.Оценка_физика) / 2\n",
    "df"
   ],
   "metadata": {
    "collapsed": false,
    "ExecuteTime": {
     "end_time": "2023-08-12T14:50:59.523313Z",
     "start_time": "2023-08-12T14:50:59.459480Z"
    }
   }
  },
  {
   "cell_type": "code",
   "execution_count": 65,
   "outputs": [
    {
     "data": {
      "text/plain": "         Имя  Возраст Пол  Оценка_математика  Оценка_физика  Средняя_оценка\n0       Анна       21   Ж                 85             70            77.5\n1      Борис       24   М                 70             82            76.0\n2   Виктория       20   Ж                 92             88            90.0\n3    Дмитрий       22   М                 65             75            70.0\n4  Екатерина       23   Ж                 78             60            69.0",
      "text/html": "<div>\n<style scoped>\n    .dataframe tbody tr th:only-of-type {\n        vertical-align: middle;\n    }\n\n    .dataframe tbody tr th {\n        vertical-align: top;\n    }\n\n    .dataframe thead th {\n        text-align: right;\n    }\n</style>\n<table border=\"1\" class=\"dataframe\">\n  <thead>\n    <tr style=\"text-align: right;\">\n      <th></th>\n      <th>Имя</th>\n      <th>Возраст</th>\n      <th>Пол</th>\n      <th>Оценка_математика</th>\n      <th>Оценка_физика</th>\n      <th>Средняя_оценка</th>\n    </tr>\n  </thead>\n  <tbody>\n    <tr>\n      <th>0</th>\n      <td>Анна</td>\n      <td>21</td>\n      <td>Ж</td>\n      <td>85</td>\n      <td>70</td>\n      <td>77.5</td>\n    </tr>\n    <tr>\n      <th>1</th>\n      <td>Борис</td>\n      <td>24</td>\n      <td>М</td>\n      <td>70</td>\n      <td>82</td>\n      <td>76.0</td>\n    </tr>\n    <tr>\n      <th>2</th>\n      <td>Виктория</td>\n      <td>20</td>\n      <td>Ж</td>\n      <td>92</td>\n      <td>88</td>\n      <td>90.0</td>\n    </tr>\n    <tr>\n      <th>3</th>\n      <td>Дмитрий</td>\n      <td>22</td>\n      <td>М</td>\n      <td>65</td>\n      <td>75</td>\n      <td>70.0</td>\n    </tr>\n    <tr>\n      <th>4</th>\n      <td>Екатерина</td>\n      <td>23</td>\n      <td>Ж</td>\n      <td>78</td>\n      <td>60</td>\n      <td>69.0</td>\n    </tr>\n  </tbody>\n</table>\n</div>"
     },
     "execution_count": 65,
     "metadata": {},
     "output_type": "execute_result"
    }
   ],
   "source": [
    "df[\"Средняя_оценка\"] = df[[\"Оценка_физика\", \"Оценка_математика\"]].mean(axis=1)\n",
    "df"
   ],
   "metadata": {
    "collapsed": false,
    "ExecuteTime": {
     "end_time": "2023-08-12T14:53:07.582731Z",
     "start_time": "2023-08-12T14:53:07.545762Z"
    }
   }
  },
  {
   "cell_type": "code",
   "execution_count": 66,
   "outputs": [
    {
     "data": {
      "text/plain": "         Имя  Возраст Пол  Оценка_математика  Оценка_физика  Средняя_оценка\n0       Анна       21   Ж                170             70            77.5\n1      Борис       24   М                140             82            76.0\n2   Виктория       20   Ж                184             88            90.0\n3    Дмитрий       22   М                130             75            70.0\n4  Екатерина       23   Ж                156             60            69.0",
      "text/html": "<div>\n<style scoped>\n    .dataframe tbody tr th:only-of-type {\n        vertical-align: middle;\n    }\n\n    .dataframe tbody tr th {\n        vertical-align: top;\n    }\n\n    .dataframe thead th {\n        text-align: right;\n    }\n</style>\n<table border=\"1\" class=\"dataframe\">\n  <thead>\n    <tr style=\"text-align: right;\">\n      <th></th>\n      <th>Имя</th>\n      <th>Возраст</th>\n      <th>Пол</th>\n      <th>Оценка_математика</th>\n      <th>Оценка_физика</th>\n      <th>Средняя_оценка</th>\n    </tr>\n  </thead>\n  <tbody>\n    <tr>\n      <th>0</th>\n      <td>Анна</td>\n      <td>21</td>\n      <td>Ж</td>\n      <td>170</td>\n      <td>70</td>\n      <td>77.5</td>\n    </tr>\n    <tr>\n      <th>1</th>\n      <td>Борис</td>\n      <td>24</td>\n      <td>М</td>\n      <td>140</td>\n      <td>82</td>\n      <td>76.0</td>\n    </tr>\n    <tr>\n      <th>2</th>\n      <td>Виктория</td>\n      <td>20</td>\n      <td>Ж</td>\n      <td>184</td>\n      <td>88</td>\n      <td>90.0</td>\n    </tr>\n    <tr>\n      <th>3</th>\n      <td>Дмитрий</td>\n      <td>22</td>\n      <td>М</td>\n      <td>130</td>\n      <td>75</td>\n      <td>70.0</td>\n    </tr>\n    <tr>\n      <th>4</th>\n      <td>Екатерина</td>\n      <td>23</td>\n      <td>Ж</td>\n      <td>156</td>\n      <td>60</td>\n      <td>69.0</td>\n    </tr>\n  </tbody>\n</table>\n</div>"
     },
     "execution_count": 66,
     "metadata": {},
     "output_type": "execute_result"
    }
   ],
   "source": [
    "# Применим фукцию\n",
    "def double_grade(grade):\n",
    "    return grade * 2\n",
    "\n",
    "\n",
    "df[\"Оценка_математика\"] = df[\"Оценка_математика\"].apply(double_grade)\n",
    "df"
   ],
   "metadata": {
    "collapsed": false,
    "ExecuteTime": {
     "end_time": "2023-08-12T14:58:27.676528Z",
     "start_time": "2023-08-12T14:58:27.212391Z"
    }
   }
  },
  {
   "cell_type": "code",
   "execution_count": 67,
   "outputs": [
    {
     "data": {
      "text/plain": "         Имя  Возраст Пол  Оценка_математика  Оценка_физика  Средняя_оценка  \\\n0       Анна       21   Ж                170             70            77.5   \n1      Борис       24   М                140             82            76.0   \n2   Виктория       20   Ж                184             88            90.0   \n3    Дмитрий       22   М                130             75            70.0   \n4  Екатерина       23   Ж                156             60            69.0   \n\n   Оценка_русский  \n0            70.0  \n1            85.0  \n2             NaN  \n3            50.0  \n4            99.0  ",
      "text/html": "<div>\n<style scoped>\n    .dataframe tbody tr th:only-of-type {\n        vertical-align: middle;\n    }\n\n    .dataframe tbody tr th {\n        vertical-align: top;\n    }\n\n    .dataframe thead th {\n        text-align: right;\n    }\n</style>\n<table border=\"1\" class=\"dataframe\">\n  <thead>\n    <tr style=\"text-align: right;\">\n      <th></th>\n      <th>Имя</th>\n      <th>Возраст</th>\n      <th>Пол</th>\n      <th>Оценка_математика</th>\n      <th>Оценка_физика</th>\n      <th>Средняя_оценка</th>\n      <th>Оценка_русский</th>\n    </tr>\n  </thead>\n  <tbody>\n    <tr>\n      <th>0</th>\n      <td>Анна</td>\n      <td>21</td>\n      <td>Ж</td>\n      <td>170</td>\n      <td>70</td>\n      <td>77.5</td>\n      <td>70.0</td>\n    </tr>\n    <tr>\n      <th>1</th>\n      <td>Борис</td>\n      <td>24</td>\n      <td>М</td>\n      <td>140</td>\n      <td>82</td>\n      <td>76.0</td>\n      <td>85.0</td>\n    </tr>\n    <tr>\n      <th>2</th>\n      <td>Виктория</td>\n      <td>20</td>\n      <td>Ж</td>\n      <td>184</td>\n      <td>88</td>\n      <td>90.0</td>\n      <td>NaN</td>\n    </tr>\n    <tr>\n      <th>3</th>\n      <td>Дмитрий</td>\n      <td>22</td>\n      <td>М</td>\n      <td>130</td>\n      <td>75</td>\n      <td>70.0</td>\n      <td>50.0</td>\n    </tr>\n    <tr>\n      <th>4</th>\n      <td>Екатерина</td>\n      <td>23</td>\n      <td>Ж</td>\n      <td>156</td>\n      <td>60</td>\n      <td>69.0</td>\n      <td>99.0</td>\n    </tr>\n  </tbody>\n</table>\n</div>"
     },
     "execution_count": 67,
     "metadata": {},
     "output_type": "execute_result"
    }
   ],
   "source": [
    "df[\"Оценка_русский\"] = [70, 85, None, 50, 99]\n",
    "df"
   ],
   "metadata": {
    "collapsed": false,
    "ExecuteTime": {
     "end_time": "2023-08-12T15:02:24.197721Z",
     "start_time": "2023-08-12T15:02:23.726018Z"
    }
   }
  },
  {
   "cell_type": "code",
   "execution_count": 68,
   "outputs": [
    {
     "data": {
      "text/plain": "         Имя  Возраст Пол  Оценка_математика  Оценка_физика  Средняя_оценка  \\\n0       Анна       21   Ж                170             70            77.5   \n1      Борис       24   М                140             82            76.0   \n2   Виктория       20   Ж                184             88            90.0   \n3    Дмитрий       22   М                130             75            70.0   \n4  Екатерина       23   Ж                156             60            69.0   \n\n   Оценка_русский  \n0            70.0  \n1            85.0  \n2             NaN  \n3            50.0  \n4            99.0  ",
      "text/html": "<div>\n<style scoped>\n    .dataframe tbody tr th:only-of-type {\n        vertical-align: middle;\n    }\n\n    .dataframe tbody tr th {\n        vertical-align: top;\n    }\n\n    .dataframe thead th {\n        text-align: right;\n    }\n</style>\n<table border=\"1\" class=\"dataframe\">\n  <thead>\n    <tr style=\"text-align: right;\">\n      <th></th>\n      <th>Имя</th>\n      <th>Возраст</th>\n      <th>Пол</th>\n      <th>Оценка_математика</th>\n      <th>Оценка_физика</th>\n      <th>Средняя_оценка</th>\n      <th>Оценка_русский</th>\n    </tr>\n  </thead>\n  <tbody>\n    <tr>\n      <th>0</th>\n      <td>Анна</td>\n      <td>21</td>\n      <td>Ж</td>\n      <td>170</td>\n      <td>70</td>\n      <td>77.5</td>\n      <td>70.0</td>\n    </tr>\n    <tr>\n      <th>1</th>\n      <td>Борис</td>\n      <td>24</td>\n      <td>М</td>\n      <td>140</td>\n      <td>82</td>\n      <td>76.0</td>\n      <td>85.0</td>\n    </tr>\n    <tr>\n      <th>2</th>\n      <td>Виктория</td>\n      <td>20</td>\n      <td>Ж</td>\n      <td>184</td>\n      <td>88</td>\n      <td>90.0</td>\n      <td>NaN</td>\n    </tr>\n    <tr>\n      <th>3</th>\n      <td>Дмитрий</td>\n      <td>22</td>\n      <td>М</td>\n      <td>130</td>\n      <td>75</td>\n      <td>70.0</td>\n      <td>50.0</td>\n    </tr>\n    <tr>\n      <th>4</th>\n      <td>Екатерина</td>\n      <td>23</td>\n      <td>Ж</td>\n      <td>156</td>\n      <td>60</td>\n      <td>69.0</td>\n      <td>99.0</td>\n    </tr>\n  </tbody>\n</table>\n</div>"
     },
     "execution_count": 68,
     "metadata": {},
     "output_type": "execute_result"
    }
   ],
   "source": [
    "df.dropna()\n",
    "df"
   ],
   "metadata": {
    "collapsed": false,
    "ExecuteTime": {
     "end_time": "2023-08-12T15:03:45.658985Z",
     "start_time": "2023-08-12T15:03:45.305221Z"
    }
   }
  },
  {
   "cell_type": "code",
   "execution_count": 69,
   "outputs": [
    {
     "data": {
      "text/plain": "         Имя  Возраст Пол  Оценка_математика  Оценка_физика  Средняя_оценка  \\\n0       Анна       21   Ж                170             70            77.5   \n1      Борис       24   М                140             82            76.0   \n3    Дмитрий       22   М                130             75            70.0   \n4  Екатерина       23   Ж                156             60            69.0   \n\n   Оценка_русский  \n0            70.0  \n1            85.0  \n3            50.0  \n4            99.0  ",
      "text/html": "<div>\n<style scoped>\n    .dataframe tbody tr th:only-of-type {\n        vertical-align: middle;\n    }\n\n    .dataframe tbody tr th {\n        vertical-align: top;\n    }\n\n    .dataframe thead th {\n        text-align: right;\n    }\n</style>\n<table border=\"1\" class=\"dataframe\">\n  <thead>\n    <tr style=\"text-align: right;\">\n      <th></th>\n      <th>Имя</th>\n      <th>Возраст</th>\n      <th>Пол</th>\n      <th>Оценка_математика</th>\n      <th>Оценка_физика</th>\n      <th>Средняя_оценка</th>\n      <th>Оценка_русский</th>\n    </tr>\n  </thead>\n  <tbody>\n    <tr>\n      <th>0</th>\n      <td>Анна</td>\n      <td>21</td>\n      <td>Ж</td>\n      <td>170</td>\n      <td>70</td>\n      <td>77.5</td>\n      <td>70.0</td>\n    </tr>\n    <tr>\n      <th>1</th>\n      <td>Борис</td>\n      <td>24</td>\n      <td>М</td>\n      <td>140</td>\n      <td>82</td>\n      <td>76.0</td>\n      <td>85.0</td>\n    </tr>\n    <tr>\n      <th>3</th>\n      <td>Дмитрий</td>\n      <td>22</td>\n      <td>М</td>\n      <td>130</td>\n      <td>75</td>\n      <td>70.0</td>\n      <td>50.0</td>\n    </tr>\n    <tr>\n      <th>4</th>\n      <td>Екатерина</td>\n      <td>23</td>\n      <td>Ж</td>\n      <td>156</td>\n      <td>60</td>\n      <td>69.0</td>\n      <td>99.0</td>\n    </tr>\n  </tbody>\n</table>\n</div>"
     },
     "execution_count": 69,
     "metadata": {},
     "output_type": "execute_result"
    }
   ],
   "source": [
    "df.dropna(inplace=True)\n",
    "df"
   ],
   "metadata": {
    "collapsed": false,
    "ExecuteTime": {
     "end_time": "2023-08-12T15:06:27.632355Z",
     "start_time": "2023-08-12T15:06:27.264246Z"
    }
   }
  },
  {
   "cell_type": "code",
   "execution_count": null,
   "outputs": [],
   "source": [],
   "metadata": {
    "collapsed": false
   }
  }
 ],
 "metadata": {
  "kernelspec": {
   "display_name": "Python 3",
   "language": "python",
   "name": "python3"
  },
  "language_info": {
   "codemirror_mode": {
    "name": "ipython",
    "version": 2
   },
   "file_extension": ".py",
   "mimetype": "text/x-python",
   "name": "python",
   "nbconvert_exporter": "python",
   "pygments_lexer": "ipython2",
   "version": "2.7.6"
  }
 },
 "nbformat": 4,
 "nbformat_minor": 0
}
